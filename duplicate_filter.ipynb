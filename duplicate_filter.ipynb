{
 "cells": [
  {
   "cell_type": "code",
   "execution_count": 3,
   "metadata": {},
   "outputs": [],
   "source": [
    "import geopandas as gpd\n",
    "shapefile = gpd.read_file(\"PA19_refined_179076/CAR19_refined_179076.shp\")\n",
    "df = shapefile.to_crs(6933)"
   ]
  },
  {
   "cell_type": "code",
   "execution_count": 4,
   "metadata": {},
   "outputs": [],
   "source": [
    "invalids = []\n",
    "for idx, row in df.iterrows():\n",
    "    if not row['geometry'].buffer(0).is_valid:\n",
    "        invalids.append(idx)"
   ]
  },
  {
   "cell_type": "code",
   "execution_count": 5,
   "metadata": {},
   "outputs": [
    {
     "data": {
      "text/plain": [
       "[]"
      ]
     },
     "execution_count": 5,
     "metadata": {},
     "output_type": "execute_result"
    }
   ],
   "source": [
    "invalids"
   ]
  },
  {
   "cell_type": "code",
   "execution_count": 6,
   "metadata": {},
   "outputs": [],
   "source": [
    "for ID in invalids:\n",
    "    print(df.loc[ID, 'cod_imovel'])"
   ]
  },
  {
   "cell_type": "code",
   "execution_count": 7,
   "metadata": {},
   "outputs": [],
   "source": [
    "from shapely.geometry import Polygon\n",
    "from shapely.ops import unary_union\n",
    "from tqdm import tqdm\n",
    "from rtree import index\n",
    "from matplotlib import pyplot as plt\n",
    "\n",
    "import pandas as pd\n",
    "import numpy as np\n",
    "import math\n",
    "from ftfy import fix_text\n",
    "from unidecode import unidecode"
   ]
  },
  {
   "cell_type": "code",
   "execution_count": 16,
   "metadata": {},
   "outputs": [],
   "source": [
    "info_dict = {ID: {} for ID in set(df['cod_imovel'])}\n",
    "for _, row in df.iterrows():\n",
    "    info_dict[row['cod_imovel']]['landholder'] = row['landholder']\n",
    "    info_dict[row['cod_imovel']]['cpf'] = row['CPF']\n",
    "    info_dict[row['cod_imovel']]['date'] = row['dat_pr_cad']"
   ]
  },
  {
   "cell_type": "code",
   "execution_count": 17,
   "metadata": {},
   "outputs": [],
   "source": [
    "def similar_names(cod_1, cod_2):\n",
    "    \n",
    "    name_1 = info_dict[cod_1]['landholder']\n",
    "    name_2 = info_dict[cod_2]['landholder']\n",
    "\n",
    "    if name_1 == name_2:\n",
    "        return True\n",
    "    \n",
    "    if name_1 == None or name_2 == None:\n",
    "        return False\n",
    "    \n",
    "    if type(name_1) == float or type(name_2) == float:\n",
    "        return False\n",
    "    \n",
    "    name_1 = unidecode(fix_text(name_1)).upper()\n",
    "    name_2 = unidecode(fix_text(name_2)).upper()\n",
    "    \n",
    "    name_1_set = set((name_1.split())[1:])\n",
    "    name_2_set = set((name_2.split())[1:])\n",
    "    res_set = name_1_set.intersection(name_2_set)\n",
    "\n",
    "    for name in res_set:\n",
    "        if len(name) > 2 and name not in ['LTDA', 'S/A', 'S.A', 'S.A.', 'DOS', 'DAS']:\n",
    "            return True\n",
    "    \n",
    "    return False"
   ]
  },
  {
   "cell_type": "code",
   "execution_count": 18,
   "metadata": {},
   "outputs": [],
   "source": [
    "IDs = [key for key in list(df['cod_imovel'])]\n",
    "polygons = [row['geometry'].buffer(0) for _, row in df.iterrows()]"
   ]
  },
  {
   "cell_type": "code",
   "execution_count": 19,
   "metadata": {},
   "outputs": [],
   "source": [
    "from rtree import index\n",
    "idx_polys = index.Index()\n",
    "for pos, cell in enumerate(polygons):\n",
    "    idx_polys.insert(pos, cell.bounds)"
   ]
  },
  {
   "cell_type": "code",
   "execution_count": 20,
   "metadata": {},
   "outputs": [],
   "source": [
    "AREA_SIMILARITY = 0.70\n",
    "OVERLAP_SIMILARITY = 0.50"
   ]
  },
  {
   "cell_type": "code",
   "execution_count": 21,
   "metadata": {},
   "outputs": [],
   "source": [
    "sus_dups = set({})\n",
    "multiple_dups = []\n",
    "\n",
    "for i, poly in enumerate(polygons):\n",
    "\n",
    "    candidate_indices = [pos for pos in idx_polys.intersection(poly.bounds) if pos != i]\n",
    "    ID = IDs[i]\n",
    "    \n",
    "    duplicate_IDs = []\n",
    "    for index in candidate_indices:\n",
    "        sus_dup = polygons[index]\n",
    "        sus_dup_ID = IDs[index]\n",
    "        if poly.equals(sus_dup):\n",
    "            duplicate_IDs.append(sus_dup_ID)\n",
    "            \n",
    "            ## add in criterion for both area and overlap\n",
    "        elif (abs(poly.area - sus_dup.area) < (1-AREA_SIMILARITY)*poly.area and abs(poly.area - sus_dup.area) < (1-AREA_SIMILARITY)*sus_dup.area and\n",
    "                abs(poly.intersection(sus_dup).area - poly.area) < (1-OVERLAP_SIMILARITY)*poly.area and abs(poly.intersection(sus_dup).area - poly.area) < (1-OVERLAP_SIMILARITY)*sus_dup.area):\n",
    "            if similar_names(ID, sus_dup_ID) or (info_dict[ID]['cpf'] == info_dict[sus_dup_ID]['cpf']):\n",
    "                duplicate_IDs.append(sus_dup_ID)\n",
    "            \n",
    "    years_dict = {}\n",
    "    if len(duplicate_IDs) > 0:\n",
    "        \n",
    "        # get years of ID and sus_dup_IDs\n",
    "        years_dict[info_dict[ID]['date']] = ID\n",
    "        for duplicate_ID in duplicate_IDs:\n",
    "            years_dict[info_dict[duplicate_ID]['date']] = duplicate_ID\n",
    "            \n",
    "        # add all but the newest one to the set\n",
    "        max_date = max(years_dict.keys())\n",
    "        for key in years_dict.keys():\n",
    "            if key != max_date:\n",
    "                sus_dups.add(years_dict[key])\n",
    "                \n",
    "        if len(duplicate_IDs) > 1:\n",
    "            multiple_dups.append(ID)"
   ]
  },
  {
   "cell_type": "code",
   "execution_count": 22,
   "metadata": {},
   "outputs": [],
   "source": [
    "out_dict = {'dups': list(sus_dups)}"
   ]
  },
  {
   "cell_type": "code",
   "execution_count": 23,
   "metadata": {},
   "outputs": [],
   "source": [
    "df_out = pd.DataFrame(out_dict)"
   ]
  },
  {
   "cell_type": "code",
   "execution_count": 24,
   "metadata": {},
   "outputs": [],
   "source": [
    "df_out.to_excel('CAR19_PA_sus_dups_70_50.xlsx')"
   ]
  },
  {
   "cell_type": "code",
   "execution_count": 25,
   "metadata": {},
   "outputs": [
    {
     "data": {
      "text/html": [
       "<div>\n",
       "<style scoped>\n",
       "    .dataframe tbody tr th:only-of-type {\n",
       "        vertical-align: middle;\n",
       "    }\n",
       "\n",
       "    .dataframe tbody tr th {\n",
       "        vertical-align: top;\n",
       "    }\n",
       "\n",
       "    .dataframe thead th {\n",
       "        text-align: right;\n",
       "    }\n",
       "</style>\n",
       "<table border=\"1\" class=\"dataframe\">\n",
       "  <thead>\n",
       "    <tr style=\"text-align: right;\">\n",
       "      <th></th>\n",
       "      <th>dups</th>\n",
       "    </tr>\n",
       "  </thead>\n",
       "  <tbody>\n",
       "    <tr>\n",
       "      <th>0</th>\n",
       "      <td>PA-1508308-6B3E6BB732104FC3915EEB84A5ACE433</td>\n",
       "    </tr>\n",
       "    <tr>\n",
       "      <th>1</th>\n",
       "      <td>PA-1505064-46F9E749D3E14D799F7D3B2FFDD5D10F</td>\n",
       "    </tr>\n",
       "    <tr>\n",
       "      <th>2</th>\n",
       "      <td>PA-1505486-7BC1D8F8A5B04CF79E78D472874B7125</td>\n",
       "    </tr>\n",
       "    <tr>\n",
       "      <th>3</th>\n",
       "      <td>PA-1505064-C26137A2B63F4A66BEC77659F47E6292</td>\n",
       "    </tr>\n",
       "    <tr>\n",
       "      <th>4</th>\n",
       "      <td>PA-1505064-923BFC8113D2475CBCC8B0D111CE3509</td>\n",
       "    </tr>\n",
       "    <tr>\n",
       "      <th>...</th>\n",
       "      <td>...</td>\n",
       "    </tr>\n",
       "    <tr>\n",
       "      <th>1822</th>\n",
       "      <td>PA-1506005-7EDC641663494963B815D21C41C6E16C</td>\n",
       "    </tr>\n",
       "    <tr>\n",
       "      <th>1823</th>\n",
       "      <td>PA-1503606-168DD3F50179425E9804A080CAE96FAA</td>\n",
       "    </tr>\n",
       "    <tr>\n",
       "      <th>1824</th>\n",
       "      <td>PA-1507300-1F5605E334B54D0CADD1837B827625C6</td>\n",
       "    </tr>\n",
       "    <tr>\n",
       "      <th>1825</th>\n",
       "      <td>PA-1505064-59B4D523D9C344A3974075DBE724E19A</td>\n",
       "    </tr>\n",
       "    <tr>\n",
       "      <th>1826</th>\n",
       "      <td>PA-1505064-3A0ECDA496734BEE975C0671314A0C96</td>\n",
       "    </tr>\n",
       "  </tbody>\n",
       "</table>\n",
       "<p>1827 rows × 1 columns</p>\n",
       "</div>"
      ],
      "text/plain": [
       "                                             dups\n",
       "0     PA-1508308-6B3E6BB732104FC3915EEB84A5ACE433\n",
       "1     PA-1505064-46F9E749D3E14D799F7D3B2FFDD5D10F\n",
       "2     PA-1505486-7BC1D8F8A5B04CF79E78D472874B7125\n",
       "3     PA-1505064-C26137A2B63F4A66BEC77659F47E6292\n",
       "4     PA-1505064-923BFC8113D2475CBCC8B0D111CE3509\n",
       "...                                           ...\n",
       "1822  PA-1506005-7EDC641663494963B815D21C41C6E16C\n",
       "1823  PA-1503606-168DD3F50179425E9804A080CAE96FAA\n",
       "1824  PA-1507300-1F5605E334B54D0CADD1837B827625C6\n",
       "1825  PA-1505064-59B4D523D9C344A3974075DBE724E19A\n",
       "1826  PA-1505064-3A0ECDA496734BEE975C0671314A0C96\n",
       "\n",
       "[1827 rows x 1 columns]"
      ]
     },
     "execution_count": 25,
     "metadata": {},
     "output_type": "execute_result"
    }
   ],
   "source": [
    "df_out"
   ]
  },
  {
   "cell_type": "code",
   "execution_count": null,
   "metadata": {},
   "outputs": [],
   "source": []
  }
 ],
 "metadata": {
  "kernelspec": {
   "display_name": "Python 3",
   "language": "python",
   "name": "python3"
  },
  "language_info": {
   "codemirror_mode": {
    "name": "ipython",
    "version": 3
   },
   "file_extension": ".py",
   "mimetype": "text/x-python",
   "name": "python",
   "nbconvert_exporter": "python",
   "pygments_lexer": "ipython3",
   "version": "3.7.6"
  }
 },
 "nbformat": 4,
 "nbformat_minor": 4
}
